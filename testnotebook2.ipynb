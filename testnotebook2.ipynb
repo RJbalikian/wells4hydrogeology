{
 "cells": [
  {
   "cell_type": "code",
   "execution_count": 1,
   "metadata": {},
   "outputs": [
    {
     "data": {
      "text/plain": [
       "{'LithologyDict_Exact': WindowsPath('c:/Users/riley/LocalData/Code/Github/wells4hydrogeology/w4h/resources/sample_data/DictionaryTerms/DICTIONARY_SearchTerms-Specific_2023-06-27.csv'),\n",
       " 'LithologyDict_Start': WindowsPath('c:/Users/riley/LocalData/Code/Github/wells4hydrogeology/w4h/resources/sample_data/DictionaryTerms/SearchTerms-Start.csv'),\n",
       " 'LithologyDict_Wildcard': WindowsPath('c:/Users/riley/LocalData/Code/Github/wells4hydrogeology/w4h/resources/sample_data/DictionaryTerms/SearchTerms-Wildcard.csv'),\n",
       " 'LithInterps_FineCoarse': WindowsPath('c:/Users/riley/LocalData/Code/Github/wells4hydrogeology/w4h/resources/sample_data/LithologyInterpretations/Lithology_Interp_FineCoarse.csv'),\n",
       " 'LithInterps_Clay': WindowsPath('c:/Users/riley/LocalData/Code/Github/wells4hydrogeology/w4h/resources/sample_data/LithologyInterpretations/Lithology_Interp_Clay.csv'),\n",
       " 'LithInterps_Silt': WindowsPath('c:/Users/riley/LocalData/Code/Github/wells4hydrogeology/w4h/resources/sample_data/LithologyInterpretations/Lithology_Interp_Silt.csv'),\n",
       " 'LithInterps_Sand': WindowsPath('c:/Users/riley/LocalData/Code/Github/wells4hydrogeology/w4h/resources/sample_data/LithologyInterpretations/Lithology_Interp_Sand.csv'),\n",
       " 'LithInterps_Gravel': WindowsPath('c:/Users/riley/LocalData/Code/Github/wells4hydrogeology/w4h/resources/sample_data/LithologyInterpretations/Lithology_Interp_Gravel.csv'),\n",
       " 'well_data_dtypes': WindowsPath('c:/Users/riley/LocalData/Code/Github/wells4hydrogeology/w4h/resources/sample_data/downholeDataTypes.json'),\n",
       " 'metadata_dtypes': WindowsPath('c:/Users/riley/LocalData/Code/Github/wells4hydrogeology/w4h/resources/sample_data/headerDataTypes.json'),\n",
       " 'ISWS_CRS': WindowsPath('c:/Users/riley/LocalData/Code/Github/wells4hydrogeology/w4h/resources/sample_data/isws_crs.json'),\n",
       " 'xyz_dtypes': WindowsPath('c:/Users/riley/LocalData/Code/Github/wells4hydrogeology/w4h/resources/sample_data/xyzDataTypes.json'),\n",
       " 'model_grid': WindowsPath('c:/Users/riley/LocalData/Code/Github/wells4hydrogeology/w4h/resources/sample_data/grid_625_raster.tif'),\n",
       " 'well_data': WindowsPath('c:/Users/riley/LocalData/Code/Github/wells4hydrogeology/w4h/resources/sample_data/statewide_sample_data/IL_Statewide_WellData_XYz_2023-07-20_cleaned.zip'),\n",
       " 'surf_elev': WindowsPath('c:/Users/riley/LocalData/Code/Github/wells4hydrogeology/w4h/resources/sample_data/statewide_sample_data/IL_Statewide_Surface_Elev_ft_625ft_Lambert_GridAlign.tif'),\n",
       " 'bedrock_elev': WindowsPath('c:/Users/riley/LocalData/Code/Github/wells4hydrogeology/w4h/resources/sample_data/statewide_sample_data/IL_Statewide_Bedrock_Elev_2023_ft.tif'),\n",
       " 'study_area': WindowsPath('c:/Users/riley/LocalData/Code/Github/wells4hydrogeology/w4h/resources/sample_data/statewide_sample_data/IL_Statewide_boundary.zip')}"
      ]
     },
     "execution_count": 1,
     "metadata": {},
     "output_type": "execute_result"
    }
   ],
   "source": [
    "import w4h\n",
    "res=w4h.get_resources(scope='state')\n",
    "res"
   ]
  },
  {
   "cell_type": "code",
   "execution_count": null,
   "metadata": {},
   "outputs": [],
   "source": [
    "results = w4h.run(well_data=res['well_data'],\n",
    "                surf_elev_grid=res['surf_elev'],\n",
    "                bedrock_elev_grid=res['bedrock_elev'],\n",
    "                model_grid=res['model_grid'],\n",
    "                study_area=res['study_area'],\n",
    "                lith_dict = res['LithologyDict_Exact'],\n",
    "                #lith_dict_start = res['LithologyDict_Start'],\n",
    "                #lith_dict_wildcard = res['LithologyDict_Wildcard'],\n",
    "                verbose=True\n",
    "                )"
   ]
  }
 ],
 "metadata": {
  "kernelspec": {
   "display_name": "w4h_venv",
   "language": "python",
   "name": "python3"
  },
  "language_info": {
   "codemirror_mode": {
    "name": "ipython",
    "version": 3
   },
   "file_extension": ".py",
   "mimetype": "text/x-python",
   "name": "python",
   "nbconvert_exporter": "python",
   "pygments_lexer": "ipython3",
   "version": "3.10.10"
  }
 },
 "nbformat": 4,
 "nbformat_minor": 2
}
