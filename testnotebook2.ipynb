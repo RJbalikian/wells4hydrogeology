{
 "cells": [
  {
   "cell_type": "code",
   "execution_count": 1,
   "metadata": {},
   "outputs": [
    {
     "data": {
      "text/plain": [
       "{'LithologyDict_Exact': WindowsPath('c:/Users/riley/LocalData/Code/Github/wells4hydrogeology/w4h/resources/sample_data/DictionaryTerms/DICTIONARY_SearchTerms-Specific_2023-06-27.csv'),\n",
       " 'LithologyDict_Start': WindowsPath('c:/Users/riley/LocalData/Code/Github/wells4hydrogeology/w4h/resources/sample_data/DictionaryTerms/SearchTerms-Start.csv'),\n",
       " 'LithologyDict_Wildcard': WindowsPath('c:/Users/riley/LocalData/Code/Github/wells4hydrogeology/w4h/resources/sample_data/DictionaryTerms/SearchTerms-Wildcard.csv'),\n",
       " 'LithInterps_FineCoarse': WindowsPath('c:/Users/riley/LocalData/Code/Github/wells4hydrogeology/w4h/resources/sample_data/LithologyInterpretations/Lithology_Interp_FineCoarse.csv'),\n",
       " 'LithInterps_Clay': WindowsPath('c:/Users/riley/LocalData/Code/Github/wells4hydrogeology/w4h/resources/sample_data/LithologyInterpretations/Lithology_Interp_Clay.csv'),\n",
       " 'LithInterps_Silt': WindowsPath('c:/Users/riley/LocalData/Code/Github/wells4hydrogeology/w4h/resources/sample_data/LithologyInterpretations/Lithology_Interp_Silt.csv'),\n",
       " 'LithInterps_Sand': WindowsPath('c:/Users/riley/LocalData/Code/Github/wells4hydrogeology/w4h/resources/sample_data/LithologyInterpretations/Lithology_Interp_Sand.csv'),\n",
       " 'LithInterps_Gravel': WindowsPath('c:/Users/riley/LocalData/Code/Github/wells4hydrogeology/w4h/resources/sample_data/LithologyInterpretations/Lithology_Interp_Gravel.csv'),\n",
       " 'well_data_dtypes': WindowsPath('c:/Users/riley/LocalData/Code/Github/wells4hydrogeology/w4h/resources/sample_data/downholeDataTypes.json'),\n",
       " 'metadata_dtypes': WindowsPath('c:/Users/riley/LocalData/Code/Github/wells4hydrogeology/w4h/resources/sample_data/headerDataTypes.json'),\n",
       " 'ISWS_CRS': WindowsPath('c:/Users/riley/LocalData/Code/Github/wells4hydrogeology/w4h/resources/sample_data/isws_crs.json'),\n",
       " 'xyz_dtypes': WindowsPath('c:/Users/riley/LocalData/Code/Github/wells4hydrogeology/w4h/resources/sample_data/xyzDataTypes.json'),\n",
       " 'model_grid': WindowsPath('c:/Users/riley/LocalData/Code/Github/wells4hydrogeology/w4h/resources/sample_data/grid_625_raster.tif'),\n",
       " 'well_data': WindowsPath('c:/Users/riley/LocalData/Code/Github/wells4hydrogeology/w4h/resources/sample_data/statewide_sample_data/IL_Statewide_WellData_XYz_2023-07-20_cleaned.zip'),\n",
       " 'surf_elev': WindowsPath('c:/Users/riley/LocalData/Code/Github/wells4hydrogeology/w4h/resources/sample_data/statewide_sample_data/IL_Statewide_Surface_Elev_ft_625ft_Lambert_GridAlign.tif'),\n",
       " 'bedrock_elev': WindowsPath('c:/Users/riley/LocalData/Code/Github/wells4hydrogeology/w4h/resources/sample_data/statewide_sample_data/IL_Statewide_Bedrock_Elev_2023_ft_625ft_Lambert_GridAlign.tif'),\n",
       " 'study_area': WindowsPath('c:/Users/riley/LocalData/Code/Github/wells4hydrogeology/w4h/resources/sample_data/statewide_sample_data/IL_Statewide_boundary.zip')}"
      ]
     },
     "execution_count": 1,
     "metadata": {},
     "output_type": "execute_result"
    }
   ],
   "source": [
    "import w4h\n",
    "res=w4h.get_resources(scope='state')\n",
    "res"
   ]
  },
  {
   "cell_type": "code",
   "execution_count": 3,
   "metadata": {},
   "outputs": [
    {
     "name": "stdout",
     "output_type": "stream",
     "text": [
      "\n",
      "\n",
      "run\n",
      "\tStarted at 2024-02-14 17:16:18.489699.\n",
      "\tParameters:\n",
      "\t\twell_data=c:\\Users\\riley\\LocalData\\Code\\Github\\wells4hydrogeology\\w4h\\resources\\sample_data\\statewide_sample_data\\IL_Statewide_WellData_XYz_2023-07-20_cleaned.zip\n",
      "\t\tsurf_elev_grid=c:\\Users\\riley\\LocalData\\Code\\Github\\wells4hydrogeology\\w4h\\resources\\sample_data\\statewide_sample_data\\IL_Statewide_Surface_Elev_ft_625ft_Lambert_GridAlign.tif\n",
      "\t\tbedrock_elev_grid=c:\\Users\\riley\\LocalData\\Code\\Github\\wells4hydrogeology\\w4h\\resources\\sample_data\\statewide_sample_data\\IL_Statewide_Bedrock_Elev_2023_ft_625ft_Lambert_GridAlign.tif\n",
      "\t\tmodel_grid=c:\\Users\\riley\\LocalData\\Code\\Github\\wells4hydrogeology\\w4h\\resources\\sample_data\\grid_625_raster.tif\n",
      "\t\tmetadata=None\n",
      "\t\tlayers=9\n",
      "\t\twell_data_cols=None\n",
      "\t\twell_metadata_cols=None\n",
      "\t\tdescription_col=FORMATION\n",
      "\t\ttop_col=TOP\n",
      "\t\tbottom_col=BOTTOM\n",
      "\t\tdepth_type=depth\n",
      "\t\tstudy_area=c:\\Users\\riley\\LocalData\\Code\\Github\\wells4hydrogeology\\w4h\\resources\\sample_data\\statewide_sample_data\\IL_Statewide_boundary.zip\n",
      "\t\txcol=LONGITUDE\n",
      "\t\tycol=LATITUDE\n",
      "\t\tzcol=ELEVATION\n",
      "\t\twell_id_col=API_NUMBER\n",
      "\t\toutput_crs=EPSG:4269\n",
      "\t\tlith_dict=c:\\Users\\riley\\LocalData\\Code\\Github\\wells4hydrogeology\\w4h\\resources\\sample_data\\DictionaryTerms\\DICTIONARY_SearchTerms-Specific_2023-06-27.csv\n",
      "\t\tlith_dict_start=None\n",
      "\t\tlith_dict_wildcard=None\n",
      "\t\ttarget_dict=None\n",
      "\t\ttarget_name=\n",
      "\t\texport_dir=None\n",
      "\t\tverbose=True\n",
      "\t\tlog=False\n",
      "\t\tkw_params={}\n",
      "\n",
      "\n",
      "file_setup\n",
      "\tStarted at 2024-02-14 17:16:18.491943.\n",
      "\tParameters:\n",
      "\t\twell_data=<input object>\n",
      "\t\tmetadata=None\n",
      "\t\tdata_filename=*ISGS_DOWNHOLE_DATA*.txt\n",
      "\t\tmetadata_filename=*ISGS_HEADER*.txt\n",
      "\t\tlog_dir=None\n",
      "\t\tverbose=True\n",
      "\t\tlog=False\n",
      "Using the following file(s):\n",
      "\t c:\\Users\\riley\\LocalData\\Code\\Github\\wells4hydrogeology\\w4h\\resources\\sample_data\\statewide_sample_data\\IL_Statewide_WellData_XYz_2023-07-20_cleaned.zip\n",
      "\n",
      "\n",
      "read_raw_csv\n",
      "\tStarted at 2024-02-14 17:16:18.493644.\n",
      "\tParameters:\n",
      "\t\tdata_filepath=c:\\Users\\riley\\LocalData\\Code\\Github\\wells4hydrogeology\\w4h\\resources\\sample_data\\statewide_sample_data\\IL_Statewide_WellData_XYz_2023-07-20_cleaned.zip\n",
      "\t\tmetadata_filepath=None\n",
      "\t\tdata_cols=None\n",
      "\t\tmetadata_cols=None\n",
      "\t\txcol=LONGITUDE\n",
      "\t\tycol=LATITUDE\n",
      "\t\twell_key=API_NUMBER\n",
      "\t\tencoding=latin-1\n",
      "\t\tverbose=True\n",
      "\t\tlog=False\n",
      "\t\tread_csv_kwargs\n"
     ]
    }
   ],
   "source": [
    "results = w4h.run(well_data=res['well_data'],\n",
    "                surf_elev_grid=res['surf_elev'],\n",
    "                bedrock_elev_grid=res['bedrock_elev'],\n",
    "                model_grid=res['model_grid'],\n",
    "                study_area=res['study_area'],\n",
    "                lith_dict = res['LithologyDict_Exact'],\n",
    "                #lith_dict_start = res['LithologyDict_Start'],\n",
    "                #lith_dict_wildcard = res['LithologyDict_Wildcard'],\n",
    "                verbose=True\n",
    "                )"
   ]
  }
 ],
 "metadata": {
  "kernelspec": {
   "display_name": "w4h_venv",
   "language": "python",
   "name": "python3"
  },
  "language_info": {
   "codemirror_mode": {
    "name": "ipython",
    "version": 3
   },
   "file_extension": ".py",
   "mimetype": "text/x-python",
   "name": "python",
   "nbconvert_exporter": "python",
   "pygments_lexer": "ipython3",
   "version": "3.10.10"
  }
 },
 "nbformat": 4,
 "nbformat_minor": 2
}
